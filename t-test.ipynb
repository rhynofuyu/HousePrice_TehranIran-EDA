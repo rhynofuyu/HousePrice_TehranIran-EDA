{
 "cells": [
  {
   "cell_type": "markdown",
   "id": "ec0725dc",
   "metadata": {},
   "source": [
    "# Analysis of Tehran House Prices using T-Tests\n",
    "**Objective:** This notebook uses statistical t-tests to analyze the Tehran house price dataset and determine which features (like parking, elevator, area, etc.) have a significant impact on property prices.\n",
    "\n",
    "**Author:** @hoangvd  \n",
    "**Date:** 23/06/2025"
   ]
  },
  {
   "cell_type": "markdown",
   "id": "eb1ceba7",
   "metadata": {},
   "source": [
    "## 1. Data Preparation"
   ]
  },
  {
   "cell_type": "markdown",
   "id": "6c763a02",
   "metadata": {},
   "source": [
    "### 1.1. Import Libraries"
   ]
  },
  {
   "cell_type": "code",
   "execution_count": 2,
   "id": "2ad9b5e3",
   "metadata": {},
   "outputs": [],
   "source": [
    "import numpy as np\n",
    "import pandas as pd\n",
    "import matplotlib\n",
    "import matplotlib.pyplot as plt"
   ]
  },
  {
   "cell_type": "markdown",
   "id": "b6d83851",
   "metadata": {},
   "source": [
    "- Import data, check for comlumns and variables\n",
    "### 1.2. Load and Clean Data\n",
    "Load the dataset, inspect its structure, and perform initial cleaning. We drop the original 'Price' column (in Toman) and use 'Price(USD)' for our analysis, renaming it to 'Price'."
   ]
  },
  {
   "cell_type": "code",
   "execution_count": 3,
   "id": "fc7f6b33",
   "metadata": {},
   "outputs": [
    {
     "name": "stdout",
     "output_type": "stream",
     "text": [
      "<class 'pandas.core.frame.DataFrame'>\n",
      "RangeIndex: 3479 entries, 0 to 3478\n",
      "Data columns (total 8 columns):\n",
      " #   Column      Non-Null Count  Dtype  \n",
      "---  ------      --------------  -----  \n",
      " 0   Area        3479 non-null   object \n",
      " 1   Room        3479 non-null   int64  \n",
      " 2   Parking     3479 non-null   bool   \n",
      " 3   Warehouse   3479 non-null   bool   \n",
      " 4   Elevator    3479 non-null   bool   \n",
      " 5   Address     3456 non-null   object \n",
      " 6   Price       3479 non-null   float64\n",
      " 7   Price(USD)  3479 non-null   float64\n",
      "dtypes: bool(3), float64(2), int64(1), object(2)\n",
      "memory usage: 146.2+ KB\n"
     ]
    },
    {
     "data": {
      "text/html": [
       "<div>\n",
       "<style scoped>\n",
       "    .dataframe tbody tr th:only-of-type {\n",
       "        vertical-align: middle;\n",
       "    }\n",
       "\n",
       "    .dataframe tbody tr th {\n",
       "        vertical-align: top;\n",
       "    }\n",
       "\n",
       "    .dataframe thead th {\n",
       "        text-align: right;\n",
       "    }\n",
       "</style>\n",
       "<table border=\"1\" class=\"dataframe\">\n",
       "  <thead>\n",
       "    <tr style=\"text-align: right;\">\n",
       "      <th></th>\n",
       "      <th>Area</th>\n",
       "      <th>Room</th>\n",
       "      <th>Parking</th>\n",
       "      <th>Warehouse</th>\n",
       "      <th>Elevator</th>\n",
       "      <th>Address</th>\n",
       "      <th>Price</th>\n",
       "    </tr>\n",
       "  </thead>\n",
       "  <tbody>\n",
       "    <tr>\n",
       "      <th>0</th>\n",
       "      <td>63</td>\n",
       "      <td>1</td>\n",
       "      <td>True</td>\n",
       "      <td>True</td>\n",
       "      <td>True</td>\n",
       "      <td>Shahran</td>\n",
       "      <td>61666.67</td>\n",
       "    </tr>\n",
       "    <tr>\n",
       "      <th>1</th>\n",
       "      <td>60</td>\n",
       "      <td>1</td>\n",
       "      <td>True</td>\n",
       "      <td>True</td>\n",
       "      <td>True</td>\n",
       "      <td>Shahran</td>\n",
       "      <td>61666.67</td>\n",
       "    </tr>\n",
       "    <tr>\n",
       "      <th>2</th>\n",
       "      <td>79</td>\n",
       "      <td>2</td>\n",
       "      <td>True</td>\n",
       "      <td>True</td>\n",
       "      <td>True</td>\n",
       "      <td>Pardis</td>\n",
       "      <td>18333.33</td>\n",
       "    </tr>\n",
       "    <tr>\n",
       "      <th>3</th>\n",
       "      <td>95</td>\n",
       "      <td>2</td>\n",
       "      <td>True</td>\n",
       "      <td>True</td>\n",
       "      <td>True</td>\n",
       "      <td>Shahrake Qods</td>\n",
       "      <td>30083.33</td>\n",
       "    </tr>\n",
       "    <tr>\n",
       "      <th>4</th>\n",
       "      <td>123</td>\n",
       "      <td>2</td>\n",
       "      <td>True</td>\n",
       "      <td>True</td>\n",
       "      <td>True</td>\n",
       "      <td>Shahrake Gharb</td>\n",
       "      <td>233333.33</td>\n",
       "    </tr>\n",
       "  </tbody>\n",
       "</table>\n",
       "</div>"
      ],
      "text/plain": [
       "  Area  Room  Parking  Warehouse  Elevator         Address      Price\n",
       "0   63     1     True       True      True         Shahran   61666.67\n",
       "1   60     1     True       True      True         Shahran   61666.67\n",
       "2   79     2     True       True      True          Pardis   18333.33\n",
       "3   95     2     True       True      True   Shahrake Qods   30083.33\n",
       "4  123     2     True       True      True  Shahrake Gharb  233333.33"
      ]
     },
     "execution_count": 3,
     "metadata": {},
     "output_type": "execute_result"
    }
   ],
   "source": [
    "houses = pd.read_csv(\"./data/housePrice.csv\")\n",
    "houses.head()\n",
    "houses.info()\n",
    "houses = houses.drop('Price', axis=1)\n",
    "houses = houses.rename(columns={'Price(USD)': 'Price'})\n",
    "houses.head()"
   ]
  },
  {
   "cell_type": "markdown",
   "id": "cb5d3d51",
   "metadata": {},
   "source": [
    "- Remove 1% outliers\n",
    "\n",
    "### 1.3. Outlier Removal\n",
    "To prevent extreme values from skewing the analysis, we remove the top and bottom 1% of properties based on price."
   ]
  },
  {
   "cell_type": "code",
   "execution_count": 4,
   "id": "a614fa6b",
   "metadata": {},
   "outputs": [
    {
     "name": "stdout",
     "output_type": "stream",
     "text": [
      "1st percentile (1% lowest): $9833.33\n",
      "99th percentile (1% highest): $1333333.33\n",
      "\n",
      "Dataset size before removing outliers: 3479\n",
      "Dataset size after removing outliers: 3418\n",
      "Removed 61 outliers (1.8%)\n"
     ]
    }
   ],
   "source": [
    "# Calculate 1st and 99th percentiles\n",
    "lower_percentile = houses['Price'].quantile(0.01)\n",
    "upper_percentile = houses['Price'].quantile(0.99)\n",
    "\n",
    "print(f\"1st percentile (1% lowest): ${lower_percentile:.2f}\")\n",
    "print(f\"99th percentile (1% highest): ${upper_percentile:.2f}\")\n",
    "\n",
    "# Remove outliers\n",
    "houses_before = len(houses)\n",
    "houses = houses[(houses['Price'] >= lower_percentile) & (houses['Price'] <= upper_percentile)]\n",
    "houses_after = len(houses)\n",
    "\n",
    "print(f\"\\nDataset size before removing outliers: {houses_before}\")\n",
    "print(f\"Dataset size after removing outliers: {houses_after}\")\n",
    "print(f\"Removed {houses_before - houses_after} outliers ({((houses_before - houses_after) / houses_before * 100):.1f}%)\")"
   ]
  },
  {
   "cell_type": "markdown",
   "id": "1056cef2",
   "metadata": {},
   "source": [
    "## 2. Hypothesis Testing with T-Tests\n",
    "We will now conduct several independent t-tests to compare the average prices between different groups of houses. The significance level (alpha) is set to 0.05. A p-value below 0.05 will lead us to reject the null hypothesis."
   ]
  },
  {
   "cell_type": "markdown",
   "id": "ebaece2b",
   "metadata": {},
   "source": [
    "### Hypothesis 1: Parking\n",
    "**Hypothesis:** Houses with parking have a significantly higher average price than houses without parking.\n",
    "*   **H0 (Null):** Mean price with parking = Mean price without parking.\n",
    "*   **H1 (Alternative):** Mean price with parking > Mean price without parking."
   ]
  },
  {
   "cell_type": "code",
   "execution_count": 5,
   "id": "296e4670",
   "metadata": {},
   "outputs": [
    {
     "name": "stdout",
     "output_type": "stream",
     "text": [
      "Houses with parking: 2909 properties\n",
      "Houses without parking: 509 properties\n",
      "\n",
      "Mean price with parking: $180957.87\n",
      "Mean price without parking: $54476.89\n",
      "\n",
      "T-test results:\n",
      "T-statistic: 13.9051\n",
      "P-value: 0.000000\n",
      "\n",
      "Result: Reject H0 (p < 0.05)\n",
      "Conclusion: Houses with parking have significantly higher average price than houses without parking\n"
     ]
    }
   ],
   "source": [
    "from scipy import stats\n",
    "\n",
    "# Separate houses with and without parking\n",
    "houses_with_parking = houses[houses['Parking'] == True]['Price']\n",
    "houses_without_parking = houses[houses['Parking'] == False]['Price']\n",
    "\n",
    "print(f\"Houses with parking: {len(houses_with_parking)} properties\")\n",
    "print(f\"Houses without parking: {len(houses_without_parking)} properties\")\n",
    "\n",
    "# Calculate descriptive statistics\n",
    "print(f\"\\nMean price with parking: ${houses_with_parking.mean():.2f}\")\n",
    "print(f\"Mean price without parking: ${houses_without_parking.mean():.2f}\")\n",
    "\n",
    "# Perform independent t-test\n",
    "# H0: Mean price with parking = Mean price without parking\n",
    "# H1: Mean price with parking > Mean price without parking (one-tailed test)\n",
    "t_stat, p_value = stats.ttest_ind(houses_with_parking, houses_without_parking, alternative='greater')\n",
    "\n",
    "print(f\"\\nT-test results:\")\n",
    "print(f\"T-statistic: {t_stat:.4f}\")\n",
    "print(f\"P-value: {p_value:.6f}\")\n",
    "\n",
    "# Interpret results\n",
    "alpha = 0.05\n",
    "if p_value < alpha:\n",
    "    print(f\"\\nResult: Reject H0 (p < {alpha})\")\n",
    "    print(\"Conclusion: Houses with parking have significantly higher average price than houses without parking\")\n",
    "else:\n",
    "    print(f\"\\nResult: Fail to reject H0 (p >= {alpha})\")\n",
    "    print(\"Conclusion: No significant difference in average price between houses with and without parking\")"
   ]
  },
  {
   "cell_type": "markdown",
   "id": "3566a7bf",
   "metadata": {},
   "source": [
    "### Hypothesis 2: Warehouse\n",
    "**Hypothesis:** Houses with a warehouse have a significantly higher average price than those without.\n",
    "*   **H0 (Null):** Mean price with warehouse = Mean price without warehouse.\n",
    "*   **H1 (Alternative):** Mean price with warehouse > Mean price without warehouse."
   ]
  },
  {
   "cell_type": "code",
   "execution_count": 6,
   "id": "3e71a4f2",
   "metadata": {},
   "outputs": [
    {
     "name": "stdout",
     "output_type": "stream",
     "text": [
      "Houses with warehouse: 3134 properties\n",
      "Houses without warehouse: 284 properties\n",
      "\n",
      "Mean price with warehouse: $169875.23\n",
      "Mean price without warehouse: $76571.19\n",
      "\n",
      "T-test results:\n",
      "T-statistic: 7.8057\n",
      "P-value: 0.000000\n",
      "\n",
      "Result: Reject H0 (p < 0.05)\n",
      "Conclusion: Houses with warehouse have significantly higher average price than houses without warehouse\n"
     ]
    }
   ],
   "source": [
    "# Separate houses with and without warehouse\n",
    "houses_with_warehouse = houses[houses['Warehouse'] == True]['Price']\n",
    "houses_without_warehouse = houses[houses['Warehouse'] == False]['Price']\n",
    "\n",
    "print(f\"Houses with warehouse: {len(houses_with_warehouse)} properties\")\n",
    "print(f\"Houses without warehouse: {len(houses_without_warehouse)} properties\")\n",
    "\n",
    "# Calculate descriptive statistics\n",
    "print(f\"\\nMean price with warehouse: ${houses_with_warehouse.mean():.2f}\")\n",
    "print(f\"Mean price without warehouse: ${houses_without_warehouse.mean():.2f}\")\n",
    "\n",
    "# Perform independent t-test\n",
    "# H0: Mean price with warehouse = Mean price without warehouse\n",
    "# H1: Mean price with warehouse > Mean price without warehouse (one-tailed test)\n",
    "t_stat_warehouse, p_value_warehouse = stats.ttest_ind(houses_with_warehouse, houses_without_warehouse, alternative='greater')\n",
    "\n",
    "print(f\"\\nT-test results:\")\n",
    "print(f\"T-statistic: {t_stat_warehouse:.4f}\")\n",
    "print(f\"P-value: {p_value_warehouse:.6f}\")\n",
    "\n",
    "# Interpret results\n",
    "if p_value_warehouse < alpha:\n",
    "    print(f\"\\nResult: Reject H0 (p < {alpha})\")\n",
    "    print(\"Conclusion: Houses with warehouse have significantly higher average price than houses without warehouse\")\n",
    "else:\n",
    "    print(f\"\\nResult: Fail to reject H0 (p >= {alpha})\")\n",
    "    print(\"Conclusion: No significant difference in average price between houses with and without warehouse\")"
   ]
  },
  {
   "cell_type": "markdown",
   "id": "2dea652a",
   "metadata": {},
   "source": [
    "### Hypothesis 3: Elevator\n",
    "**Hypothesis:** Houses with an elevator have a significantly higher average price than those without.\n",
    "*   **H0 (Null):** Mean price with elevator = Mean price without elevator.\n",
    "*   **H1 (Alternative):** Mean price with elevator > Mean price without elevator."
   ]
  },
  {
   "cell_type": "code",
   "execution_count": 7,
   "id": "2c061f68",
   "metadata": {},
   "outputs": [
    {
     "name": "stdout",
     "output_type": "stream",
     "text": [
      "Houses with elevator: 2706 properties\n",
      "Houses without elevator: 712 properties\n",
      "\n",
      "Mean price with elevator: $181124.46\n",
      "Mean price without elevator: $89905.05\n",
      "\n",
      "T-test results:\n",
      "T-statistic: 11.3364\n",
      "P-value: 0.000000\n",
      "\n",
      "Result: Reject H0 (p < 0.05)\n",
      "Conclusion: Houses with elevator have significantly higher average price than houses without elevator\n"
     ]
    }
   ],
   "source": [
    "# Separate houses with and without elevator\n",
    "houses_with_elevator = houses[houses['Elevator'] == True]['Price']\n",
    "houses_without_elevator = houses[houses['Elevator'] == False]['Price']\n",
    "\n",
    "print(f\"Houses with elevator: {len(houses_with_elevator)} properties\")\n",
    "print(f\"Houses without elevator: {len(houses_without_elevator)} properties\")\n",
    "\n",
    "# Calculate descriptive statistics\n",
    "print(f\"\\nMean price with elevator: ${houses_with_elevator.mean():.2f}\")\n",
    "print(f\"Mean price without elevator: ${houses_without_elevator.mean():.2f}\")\n",
    "\n",
    "# Perform independent t-test\n",
    "# H0: Mean price with elevator = Mean price without elevator\n",
    "# H1: Mean price with elevator > Mean price without elevator (one-tailed test)\n",
    "t_stat_elevator, p_value_elevator = stats.ttest_ind(houses_with_elevator, houses_without_elevator, alternative='greater')\n",
    "\n",
    "print(f\"\\nT-test results:\")\n",
    "print(f\"T-statistic: {t_stat_elevator:.4f}\")\n",
    "print(f\"P-value: {p_value_elevator:.6f}\")\n",
    "\n",
    "# Interpret results\n",
    "if p_value_elevator < alpha:\n",
    "    print(f\"\\nResult: Reject H0 (p < {alpha})\")\n",
    "    print(\"Conclusion: Houses with elevator have significantly higher average price than houses without elevator\")\n",
    "else:\n",
    "    print(f\"\\nResult: Fail to reject H0 (p >= {alpha})\")\n",
    "    print(\"Conclusion: No significant difference in average price between houses with and without elevator\")"
   ]
  },
  {
   "cell_type": "markdown",
   "id": "54d1f78c",
   "metadata": {},
   "source": [
    "### Hypothesis 4: Elevator in Small Houses (≤50m²)\n",
    "**Hypothesis:** For small houses, those with an elevator have a significantly higher average price.\n",
    "*   **H0 (Null):** For houses ≤50m², the mean price of those with an elevator is equal to those without.\n",
    "*   **H1 (Alternative):** For houses ≤50m², the mean price of those with an elevator is greater."
   ]
  },
  {
   "cell_type": "code",
   "execution_count": 8,
   "id": "f78653c3",
   "metadata": {},
   "outputs": [
    {
     "name": "stdout",
     "output_type": "stream",
     "text": [
      "Total small houses (≤50m²): 213 properties\n",
      "Small houses with elevator: 83 properties\n",
      "Small houses without elevator: 130 properties\n",
      "\n",
      "Mean price of small houses with elevator: $49834.14\n",
      "Mean price of small houses without elevator: $28904.87\n",
      "\n",
      "T-test results for small houses (≤50m²):\n",
      "T-statistic: 6.3352\n",
      "P-value: 0.000000\n",
      "\n",
      "Result: Reject H0 (p < 0.05)\n",
      "Conclusion: For small houses (≤50m²), houses with elevator have significantly higher average price than houses without elevator\n"
     ]
    }
   ],
   "source": [
    "# T-test Elevator: Size-Dependent Impact\n",
    "# Convert Area to numeric and filter houses with area 0-50m²\n",
    "houses['Area'] = pd.to_numeric(houses['Area'], errors='coerce')\n",
    "houses_small = houses[houses['Area'] <= 50]\n",
    "\n",
    "print(f\"Total small houses (≤50m²): {len(houses_small)} properties\")\n",
    "\n",
    "# Separate small houses with and without elevator\n",
    "small_houses_with_elevator = houses_small[houses_small['Elevator'] == True]['Price']\n",
    "small_houses_without_elevator = houses_small[houses_small['Elevator'] == False]['Price']\n",
    "\n",
    "print(f\"Small houses with elevator: {len(small_houses_with_elevator)} properties\")\n",
    "print(f\"Small houses without elevator: {len(small_houses_without_elevator)} properties\")\n",
    "\n",
    "# Calculate descriptive statistics\n",
    "print(f\"\\nMean price of small houses with elevator: ${small_houses_with_elevator.mean():.2f}\")\n",
    "print(f\"Mean price of small houses without elevator: ${small_houses_without_elevator.mean():.2f}\")\n",
    "\n",
    "# Perform independent t-test\n",
    "# H0: Mean price of small houses with elevator = Mean price of small houses without elevator\n",
    "# H1: Mean price of small houses with elevator > Mean price of small houses without elevator (one-tailed test)\n",
    "t_stat_small_elevator, p_value_small_elevator = stats.ttest_ind(small_houses_with_elevator, small_houses_without_elevator, alternative='greater')\n",
    "\n",
    "print(f\"\\nT-test results for small houses (≤50m²):\")\n",
    "print(f\"T-statistic: {t_stat_small_elevator:.4f}\")\n",
    "print(f\"P-value: {p_value_small_elevator:.6f}\")\n",
    "\n",
    "# Interpret results\n",
    "if p_value_small_elevator < alpha:\n",
    "    print(f\"\\nResult: Reject H0 (p < {alpha})\")\n",
    "    print(\"Conclusion: For small houses (≤50m²), houses with elevator have significantly higher average price than houses without elevator\")\n",
    "else:\n",
    "    print(f\"\\nResult: Fail to reject H0 (p >= {alpha})\")\n",
    "    print(\"Conclusion: For small houses (≤50m²), no significant difference in average price between houses with and without elevator\")"
   ]
  },
  {
   "cell_type": "markdown",
   "id": "2078149b",
   "metadata": {},
   "source": [
    "### Hypothesis 5: Parking in Medium Houses (81-120m²)\n",
    "**Hypothesis:** For medium-sized houses, those with parking have a significantly higher average price.\n",
    "*   **H0 (Null):** For houses 81-120m², the mean price of those with parking is equal to those without.\n",
    "*   **H1 (Alternative):** For houses 81-120m², the mean price of those with parking is greater.\n"
   ]
  },
  {
   "cell_type": "code",
   "execution_count": 9,
   "id": "eb35900a",
   "metadata": {},
   "outputs": [
    {
     "name": "stdout",
     "output_type": "stream",
     "text": [
      "Total medium houses (81-120m²): 1254 properties\n",
      "Medium houses with parking: 1166 properties\n",
      "Medium houses without parking: 88 properties\n",
      "\n",
      "Mean price of medium houses with parking: $126553.47\n",
      "Mean price of medium houses without parking: $61671.02\n",
      "\n",
      "T-test results for medium houses (81-120m²):\n",
      "T-statistic: 7.4008\n",
      "P-value: 0.000000\n",
      "\n",
      "Result: Reject H0 (p < 0.05)\n",
      "Conclusion: For medium houses (81-120m²), houses with parking have significantly higher average price than houses without parking\n"
     ]
    }
   ],
   "source": [
    "# T-test Parking: The Universal Value Driver\n",
    "# Filter houses with area 81-120m² (medium-sized houses)\n",
    "houses_medium = houses[(houses['Area'] >= 81) & (houses['Area'] <= 120)]\n",
    "\n",
    "print(f\"Total medium houses (81-120m²): {len(houses_medium)} properties\")\n",
    "\n",
    "# Separate medium houses with and without parking\n",
    "medium_houses_with_parking = houses_medium[houses_medium['Parking'] == True]['Price']\n",
    "medium_houses_without_parking = houses_medium[houses_medium['Parking'] == False]['Price']\n",
    "\n",
    "print(f\"Medium houses with parking: {len(medium_houses_with_parking)} properties\")\n",
    "print(f\"Medium houses without parking: {len(medium_houses_without_parking)} properties\")\n",
    "\n",
    "# Calculate descriptive statistics\n",
    "print(f\"\\nMean price of medium houses with parking: ${medium_houses_with_parking.mean():.2f}\")\n",
    "print(f\"Mean price of medium houses without parking: ${medium_houses_without_parking.mean():.2f}\")\n",
    "\n",
    "# Perform independent t-test\n",
    "# H0: Mean price of medium houses with parking = Mean price of medium houses without parking\n",
    "# H1: Mean price of medium houses with parking > Mean price of medium houses without parking (one-tailed test)\n",
    "t_stat_medium_parking, p_value_medium_parking = stats.ttest_ind(medium_houses_with_parking, medium_houses_without_parking, alternative='greater')\n",
    "\n",
    "print(f\"\\nT-test results for medium houses (81-120m²):\")\n",
    "print(f\"T-statistic: {t_stat_medium_parking:.4f}\")\n",
    "print(f\"P-value: {p_value_medium_parking:.6f}\")\n",
    "\n",
    "# Interpret results\n",
    "if p_value_medium_parking < alpha:\n",
    "    print(f\"\\nResult: Reject H0 (p < {alpha})\")\n",
    "    print(\"Conclusion: For medium houses (81-120m²), houses with parking have significantly higher average price than houses without parking\")\n",
    "else:\n",
    "    print(f\"\\nResult: Fail to reject H0 (p >= {alpha})\")\n",
    "    print(\"Conclusion: For medium houses (81-120m²), no significant difference in average price between houses with and without parking\")"
   ]
  },
  {
   "cell_type": "markdown",
   "id": "57c2d854",
   "metadata": {},
   "source": [
    "### Hypothesis 6: Area Comparison\n",
    "**Hypothesis:** Houses with an area less than 70m² have a significantly lower average price than houses in the 70-100m² range.\n",
    "*   **H0 (Null):** Mean price of houses < 70m² = Mean price of houses 70-100m².\n",
    "*   **H1 (Alternative):** Mean price of houses < 70m² < Mean price of houses 70-100m²."
   ]
  },
  {
   "cell_type": "code",
   "execution_count": 10,
   "id": "2f7c38be",
   "metadata": {},
   "outputs": [
    {
     "name": "stdout",
     "output_type": "stream",
     "text": [
      "Houses with area < 70m²: 862 properties\n",
      "Houses with area 70-100m²: 1236 properties\n",
      "\n",
      "Mean price of houses < 70m²: $55982.66\n",
      "Mean price of houses 70-100m²: $91051.87\n",
      "\n",
      "T-test results:\n",
      "T-statistic: -14.5178\n",
      "P-value: 0.000000\n",
      "\n",
      "Result: Reject H0 (p < 0.05)\n",
      "Conclusion: Houses with area < 70m² have significantly lower average price than houses with area 70-100m²\n"
     ]
    }
   ],
   "source": [
    "# T-test Area: Price comparison between different area groups\n",
    "# Filter houses with area < 70m² and 70-100m²\n",
    "houses_small_area = houses[houses['Area'] < 70]['Price']\n",
    "houses_medium_area = houses[(houses['Area'] >= 70) & (houses['Area'] <= 100)]['Price']\n",
    "\n",
    "print(f\"Houses with area < 70m²: {len(houses_small_area)} properties\")\n",
    "print(f\"Houses with area 70-100m²: {len(houses_medium_area)} properties\")\n",
    "\n",
    "# Calculate descriptive statistics\n",
    "print(f\"\\nMean price of houses < 70m²: ${houses_small_area.mean():.2f}\")\n",
    "print(f\"Mean price of houses 70-100m²: ${houses_medium_area.mean():.2f}\")\n",
    "\n",
    "# Perform independent t-test\n",
    "# H0: Mean price of houses < 70m² = Mean price of houses 70-100m²\n",
    "# H1: Mean price of houses < 70m² < Mean price of houses 70-100m² (one-tailed test)\n",
    "t_stat_area, p_value_area = stats.ttest_ind(houses_small_area, houses_medium_area, alternative='less')\n",
    "\n",
    "print(f\"\\nT-test results:\")\n",
    "print(f\"T-statistic: {t_stat_area:.4f}\")\n",
    "print(f\"P-value: {p_value_area:.6f}\")\n",
    "\n",
    "# Interpret results\n",
    "if p_value_area < alpha:\n",
    "    print(f\"\\nResult: Reject H0 (p < {alpha})\")\n",
    "    print(\"Conclusion: Houses with area < 70m² have significantly lower average price than houses with area 70-100m²\")\n",
    "else:\n",
    "    print(f\"\\nResult: Fail to reject H0 (p >= {alpha})\")\n",
    "    print(\"Conclusion: No significant difference in average price between the two area groups\")"
   ]
  },
  {
   "cell_type": "markdown",
   "id": "037ff833",
   "metadata": {},
   "source": [
    "### Hypothesis 7: Bedroom Count\n",
    "**Hypothesis:** The number of bedrooms significantly affects the house price. We test several comparisons."
   ]
  },
  {
   "cell_type": "code",
   "execution_count": 12,
   "id": "f2656e39",
   "metadata": {},
   "outputs": [
    {
     "name": "stdout",
     "output_type": "stream",
     "text": [
      "Houses with 0 bedrooms: 5 properties\n",
      "Houses with 1 bedroom: 659 properties\n",
      "\n",
      "Mean price of houses with 0 bedrooms: $15500.00\n",
      "Mean price of houses with 1 bedroom: $57842.80\n",
      "\n",
      "T-test results:\n",
      "T-statistic: -1.7474\n",
      "P-value: 0.040517\n",
      "\n",
      "Result: Reject H0 (p < 0.05)\n",
      "Conclusion: Houses with 0 bedrooms have significantly lower average price than houses with 1 bedroom\n"
     ]
    }
   ],
   "source": [
    "# T-test: Houses with 0 bedrooms vs houses with 1 bedroom\n",
    "# Separate houses with 0 and 1 bedrooms\n",
    "houses_0_rooms = houses[houses['Room'] == 0]['Price']\n",
    "houses_1_room = houses[houses['Room'] == 1]['Price']\n",
    "\n",
    "print(f\"Houses with 0 bedrooms: {len(houses_0_rooms)} properties\")\n",
    "print(f\"Houses with 1 bedroom: {len(houses_1_room)} properties\")\n",
    "\n",
    "# Calculate descriptive statistics\n",
    "print(f\"\\nMean price of houses with 0 bedrooms: ${houses_0_rooms.mean():.2f}\")\n",
    "print(f\"Mean price of houses with 1 bedroom: ${houses_1_room.mean():.2f}\")\n",
    "\n",
    "# Perform independent t-test\n",
    "# H0: Mean price of houses with 0 bedrooms = Mean price of houses with 1 bedroom\n",
    "# H1: Mean price of houses with 0 bedrooms < Mean price of houses with 1 bedroom (one-tailed test)\n",
    "t_stat_0vs1_rooms, p_value_0vs1_rooms = stats.ttest_ind(houses_0_rooms, houses_1_room, alternative='less')\n",
    "\n",
    "print(f\"\\nT-test results:\")\n",
    "print(f\"T-statistic: {t_stat_0vs1_rooms:.4f}\")\n",
    "print(f\"P-value: {p_value_0vs1_rooms:.6f}\")\n",
    "\n",
    "# Interpret results\n",
    "if p_value_0vs1_rooms < alpha:\n",
    "    print(f\"\\nResult: Reject H0 (p < {alpha})\")\n",
    "    print(\"Conclusion: Houses with 0 bedrooms have significantly lower average price than houses with 1 bedroom\")\n",
    "else:\n",
    "    print(f\"\\nResult: Fail to reject H0 (p >= {alpha})\")\n",
    "    print(\"Conclusion: No significant difference in average price between houses with 0 and 1 bedroom\")"
   ]
  },
  {
   "cell_type": "code",
   "execution_count": 13,
   "id": "937b8149",
   "metadata": {},
   "outputs": [
    {
     "name": "stdout",
     "output_type": "stream",
     "text": [
      "Houses with 0 bedrooms: 5 properties\n",
      "Houses with 5 bedrooms: 22 properties\n",
      "\n",
      "Mean price of houses with 0 bedrooms: $15500.00\n",
      "Mean price of houses with 5 bedrooms: $527553.03\n",
      "\n",
      "T-test results:\n",
      "T-statistic: -3.3461\n",
      "P-value: 0.001296\n",
      "\n",
      "Result: Reject H0 (p < 0.05)\n",
      "Conclusion: Houses with 0 bedrooms have significantly lower average price than houses with 5 bedrooms\n"
     ]
    }
   ],
   "source": [
    "# T-test: Houses with 0 bedrooms vs houses with 5 bedrooms\n",
    "# Separate houses with 0 and 5 bedrooms\n",
    "houses_5_rooms = houses[houses['Room'] == 5]['Price']\n",
    "\n",
    "print(f\"Houses with 0 bedrooms: {len(houses_0_rooms)} properties\")\n",
    "print(f\"Houses with 5 bedrooms: {len(houses_5_rooms)} properties\")\n",
    "\n",
    "# Calculate descriptive statistics\n",
    "print(f\"\\nMean price of houses with 0 bedrooms: ${houses_0_rooms.mean():.2f}\")\n",
    "print(f\"Mean price of houses with 5 bedrooms: ${houses_5_rooms.mean():.2f}\")\n",
    "\n",
    "# Perform independent t-test\n",
    "# H0: Mean price of houses with 0 bedrooms = Mean price of houses with 5 bedrooms\n",
    "# H1: Mean price of houses with 0 bedrooms < Mean price of houses with 5 bedrooms (one-tailed test)\n",
    "t_stat_0vs5_rooms, p_value_0vs5_rooms = stats.ttest_ind(houses_0_rooms, houses_5_rooms, alternative='less')\n",
    "\n",
    "print(f\"\\nT-test results:\")\n",
    "print(f\"T-statistic: {t_stat_0vs5_rooms:.4f}\")\n",
    "print(f\"P-value: {p_value_0vs5_rooms:.6f}\")\n",
    "\n",
    "# Interpret results\n",
    "if p_value_0vs5_rooms < alpha:\n",
    "    print(f\"\\nResult: Reject H0 (p < {alpha})\")\n",
    "    print(\"Conclusion: Houses with 0 bedrooms have significantly lower average price than houses with 5 bedrooms\")\n",
    "else:\n",
    "    print(f\"\\nResult: Fail to reject H0 (p >= {alpha})\")\n",
    "    print(\"Conclusion: No significant difference in average price between houses with 0 and 5 bedrooms\")"
   ]
  },
  {
   "cell_type": "code",
   "execution_count": 14,
   "id": "12ba6bea",
   "metadata": {},
   "outputs": [
    {
     "name": "stdout",
     "output_type": "stream",
     "text": [
      "Houses with 4 bedrooms: 60 properties\n",
      "Houses with 5 bedrooms: 22 properties\n",
      "\n",
      "Mean price of houses with 4 bedrooms: $651207.22\n",
      "Mean price of houses with 5 bedrooms: $527553.03\n",
      "\n",
      "T-test results:\n",
      "T-statistic: 1.2586\n",
      "P-value: 0.894075\n",
      "\n",
      "Result: Fail to reject H0 (p >= 0.05)\n",
      "Conclusion: No significant difference in average price between houses with 4 and 5 bedrooms\n"
     ]
    }
   ],
   "source": [
    "# T-test: Houses with 4 bedrooms vs houses with 5 bedrooms\n",
    "# Separate houses with 4 and 5 bedrooms\n",
    "houses_4_rooms = houses[houses['Room'] == 4]['Price']\n",
    "\n",
    "print(f\"Houses with 4 bedrooms: {len(houses_4_rooms)} properties\")\n",
    "print(f\"Houses with 5 bedrooms: {len(houses_5_rooms)} properties\")\n",
    "\n",
    "# Calculate descriptive statistics\n",
    "print(f\"\\nMean price of houses with 4 bedrooms: ${houses_4_rooms.mean():.2f}\")\n",
    "print(f\"Mean price of houses with 5 bedrooms: ${houses_5_rooms.mean():.2f}\")\n",
    "\n",
    "# Perform independent t-test\n",
    "# H0: Mean price of houses with 4 bedrooms = Mean price of houses with 5 bedrooms\n",
    "# H1: Mean price of houses with 4 bedrooms < Mean price of houses with 5 bedrooms (one-tailed test)\n",
    "t_stat_4vs5_rooms, p_value_4vs5_rooms = stats.ttest_ind(houses_4_rooms, houses_5_rooms, alternative='less')\n",
    "\n",
    "print(f\"\\nT-test results:\")\n",
    "print(f\"T-statistic: {t_stat_4vs5_rooms:.4f}\")\n",
    "print(f\"P-value: {p_value_4vs5_rooms:.6f}\")\n",
    "\n",
    "# Interpret results\n",
    "if p_value_4vs5_rooms < alpha:\n",
    "    print(f\"\\nResult: Reject H0 (p < {alpha})\")\n",
    "    print(\"Conclusion: Houses with 4 bedrooms have significantly lower average price than houses with 5 bedrooms\")\n",
    "else:\n",
    "    print(f\"\\nResult: Fail to reject H0 (p >= {alpha})\")\n",
    "    print(\"Conclusion: No significant difference in average price between houses with 4 and 5 bedrooms\")"
   ]
  },
  {
   "cell_type": "code",
   "execution_count": 15,
   "id": "3b5f5f05",
   "metadata": {},
   "outputs": [
    {
     "name": "stdout",
     "output_type": "stream",
     "text": [
      "Houses with 3 bedrooms: 720 properties\n",
      "Houses with 5 bedrooms: 22 properties\n",
      "\n",
      "Mean price of houses with 3 bedrooms: $344623.73\n",
      "Mean price of houses with 5 bedrooms: $527553.03\n",
      "\n",
      "T-test results:\n",
      "T-statistic: -3.3548\n",
      "P-value: 0.000417\n",
      "\n",
      "Result: Reject H0 (p < 0.05)\n",
      "Conclusion: Houses with 3 bedrooms have significantly lower average price than houses with 5 bedrooms\n"
     ]
    }
   ],
   "source": [
    "# T-test: Houses with 3 bedrooms vs houses with 5 bedrooms\n",
    "# Separate houses with 3 and 5 bedrooms\n",
    "houses_3_rooms = houses[houses['Room'] == 3]['Price']\n",
    "\n",
    "print(f\"Houses with 3 bedrooms: {len(houses_3_rooms)} properties\")\n",
    "print(f\"Houses with 5 bedrooms: {len(houses_5_rooms)} properties\")\n",
    "\n",
    "# Calculate descriptive statistics\n",
    "print(f\"\\nMean price of houses with 3 bedrooms: ${houses_3_rooms.mean():.2f}\")\n",
    "print(f\"Mean price of houses with 5 bedrooms: ${houses_5_rooms.mean():.2f}\")\n",
    "\n",
    "# Perform independent t-test\n",
    "# H0: Mean price of houses with 3 bedrooms = Mean price of houses with 5 bedrooms\n",
    "# H1: Mean price of houses with 3 bedrooms < Mean price of houses with 5 bedrooms (one-tailed test)\n",
    "t_stat_3vs5_rooms, p_value_3vs5_rooms = stats.ttest_ind(houses_3_rooms, houses_5_rooms, alternative='less')\n",
    "\n",
    "print(f\"\\nT-test results:\")\n",
    "print(f\"T-statistic: {t_stat_3vs5_rooms:.4f}\")\n",
    "print(f\"P-value: {p_value_3vs5_rooms:.6f}\")\n",
    "\n",
    "# Interpret results\n",
    "if p_value_3vs5_rooms < alpha:\n",
    "    print(f\"\\nResult: Reject H0 (p < {alpha})\")\n",
    "    print(\"Conclusion: Houses with 3 bedrooms have significantly lower average price than houses with 5 bedrooms\")\n",
    "else:\n",
    "    print(f\"\\nResult: Fail to reject H0 (p >= {alpha})\")\n",
    "    print(\"Conclusion: No significant difference in average price between houses with 3 and 5 bedrooms\")"
   ]
  },
  {
   "cell_type": "markdown",
   "id": "54dacae5",
   "metadata": {},
   "source": [
    "### Hypothesis 8: Amenity Impact in Large Houses (>200m²)\n",
    "**Hypothesis:** For large houses, amenities like Parking, Warehouse, and Elevator continue to add significant value."
   ]
  },
  {
   "cell_type": "code",
   "execution_count": 16,
   "id": "67d857f2",
   "metadata": {},
   "outputs": [
    {
     "name": "stdout",
     "output_type": "stream",
     "text": [
      "Total houses with area > 200m²: 158 properties\n",
      "Houses > 200m² with parking: 151 properties\n",
      "Houses > 200m² without parking: 7 properties\n",
      "\n",
      "Mean price of houses > 200m² with parking: $688519.43\n",
      "Mean price of houses > 200m² without parking: $467142.86\n",
      "\n",
      "T-test results for houses > 200m²:\n",
      "T-statistic: 1.5759\n",
      "P-value: 0.058533\n",
      "\n",
      "Result: Fail to reject H0 (p >= 0.05)\n",
      "Conclusion: For houses > 200m², no significant difference in average price between houses with and without parking\n"
     ]
    }
   ],
   "source": [
    "# T-test: Houses with area > 200m² - Parking impact analysis\n",
    "# Filter houses with area > 200m²\n",
    "houses_large_area = houses[houses['Area'] > 200]\n",
    "\n",
    "print(f\"Total houses with area > 200m²: {len(houses_large_area)} properties\")\n",
    "\n",
    "# Separate large area houses with and without parking\n",
    "large_area_with_parking = houses_large_area[houses_large_area['Parking'] == True]['Price']\n",
    "large_area_without_parking = houses_large_area[houses_large_area['Parking'] == False]['Price']\n",
    "\n",
    "print(f\"Houses > 200m² with parking: {len(large_area_with_parking)} properties\")\n",
    "print(f\"Houses > 200m² without parking: {len(large_area_without_parking)} properties\")\n",
    "\n",
    "# Calculate descriptive statistics\n",
    "print(f\"\\nMean price of houses > 200m² with parking: ${large_area_with_parking.mean():.2f}\")\n",
    "print(f\"Mean price of houses > 200m² without parking: ${large_area_without_parking.mean():.2f}\")\n",
    "\n",
    "# Perform independent t-test\n",
    "# H0: Mean price of houses > 200m² with parking = Mean price of houses > 200m² without parking\n",
    "# H1: Mean price of houses > 200m² with parking > Mean price of houses > 200m² without parking (one-tailed test)\n",
    "t_stat_large_area_parking, p_value_large_area_parking = stats.ttest_ind(large_area_with_parking, large_area_without_parking, alternative='greater')\n",
    "\n",
    "print(f\"\\nT-test results for houses > 200m²:\")\n",
    "print(f\"T-statistic: {t_stat_large_area_parking:.4f}\")\n",
    "print(f\"P-value: {p_value_large_area_parking:.6f}\")\n",
    "\n",
    "# Interpret results\n",
    "if p_value_large_area_parking < alpha:\n",
    "    print(f\"\\nResult: Reject H0 (p < {alpha})\")\n",
    "    print(\"Conclusion: For houses > 200m², houses with parking have significantly higher average price than houses without parking\")\n",
    "else:\n",
    "    print(f\"\\nResult: Fail to reject H0 (p >= {alpha})\")\n",
    "    print(\"Conclusion: For houses > 200m², no significant difference in average price between houses with and without parking\")"
   ]
  },
  {
   "cell_type": "code",
   "execution_count": 17,
   "id": "3ae2b205",
   "metadata": {},
   "outputs": [
    {
     "name": "stdout",
     "output_type": "stream",
     "text": [
      "Total houses with area > 200m²: 158 properties\n",
      "Houses > 200m² with warehouse: 146 properties\n",
      "Houses > 200m² without warehouse: 12 properties\n",
      "\n",
      "Mean price of houses > 200m² with warehouse: $705329.45\n",
      "Mean price of houses > 200m² without warehouse: $354861.11\n",
      "\n",
      "T-test results for houses > 200m²:\n",
      "T-statistic: 3.2959\n",
      "P-value: 0.000607\n",
      "\n",
      "Result: Reject H0 (p < 0.05)\n",
      "Conclusion: For houses > 200m², houses with warehouse have significantly higher average price than houses without warehouse\n"
     ]
    }
   ],
   "source": [
    "# T-test: Houses with area > 200m² - Warehouse impact analysis\n",
    "# Filter houses with area > 200m²\n",
    "houses_large_area_warehouse = houses[houses['Area'] > 200]\n",
    "\n",
    "print(f\"Total houses with area > 200m²: {len(houses_large_area_warehouse)} properties\")\n",
    "\n",
    "# Separate large area houses with and without warehouse\n",
    "large_area_with_warehouse = houses_large_area_warehouse[houses_large_area_warehouse['Warehouse'] == True]['Price']\n",
    "large_area_without_warehouse = houses_large_area_warehouse[houses_large_area_warehouse['Warehouse'] == False]['Price']\n",
    "\n",
    "print(f\"Houses > 200m² with warehouse: {len(large_area_with_warehouse)} properties\")\n",
    "print(f\"Houses > 200m² without warehouse: {len(large_area_without_warehouse)} properties\")\n",
    "\n",
    "# Calculate descriptive statistics\n",
    "print(f\"\\nMean price of houses > 200m² with warehouse: ${large_area_with_warehouse.mean():.2f}\")\n",
    "print(f\"Mean price of houses > 200m² without warehouse: ${large_area_without_warehouse.mean():.2f}\")\n",
    "\n",
    "# Perform independent t-test\n",
    "# H0: Mean price of houses > 200m² with warehouse = Mean price of houses > 200m² without warehouse\n",
    "# H1: Mean price of houses > 200m² with warehouse > Mean price of houses > 200m² without warehouse (one-tailed test)\n",
    "t_stat_large_area_warehouse, p_value_large_area_warehouse = stats.ttest_ind(large_area_with_warehouse, large_area_without_warehouse, alternative='greater')\n",
    "\n",
    "print(f\"\\nT-test results for houses > 200m²:\")\n",
    "print(f\"T-statistic: {t_stat_large_area_warehouse:.4f}\")\n",
    "print(f\"P-value: {p_value_large_area_warehouse:.6f}\")\n",
    "\n",
    "# Interpret results\n",
    "if p_value_large_area_warehouse < alpha:\n",
    "    print(f\"\\nResult: Reject H0 (p < {alpha})\")\n",
    "    print(\"Conclusion: For houses > 200m², houses with warehouse have significantly higher average price than houses without warehouse\")\n",
    "else:\n",
    "    print(f\"\\nResult: Fail to reject H0 (p >= {alpha})\")\n",
    "    print(\"Conclusion: For houses > 200m², no significant difference in average price between houses with and without warehouse\")"
   ]
  },
  {
   "cell_type": "code",
   "execution_count": 18,
   "id": "ce369a19",
   "metadata": {},
   "outputs": [
    {
     "name": "stdout",
     "output_type": "stream",
     "text": [
      "Houses > 200m² with elevator: 109 properties\n",
      "Houses > 200m² without elevator: 49 properties\n",
      "\n",
      "Mean price of houses > 200m² with elevator: $799783.79\n",
      "Mean price of houses > 200m² without elevator: $409387.75\n",
      "\n",
      "T-test results for houses > 200m²:\n",
      "T-statistic: 7.1391\n",
      "P-value: 0.000000\n",
      "\n",
      "Result: Reject H0 (p < 0.05)\n",
      "Conclusion: For houses > 200m², houses with elevator have significantly higher average price than houses without elevator\n"
     ]
    }
   ],
   "source": [
    "# T-test: Houses with area > 200m² - Elevator impact analysis\n",
    "# Separate large area houses with and without elevator\n",
    "large_area_with_elevator = houses_large_area[houses_large_area['Elevator'] == True]['Price']\n",
    "large_area_without_elevator = houses_large_area[houses_large_area['Elevator'] == False]['Price']\n",
    "\n",
    "print(f\"Houses > 200m² with elevator: {len(large_area_with_elevator)} properties\")\n",
    "print(f\"Houses > 200m² without elevator: {len(large_area_without_elevator)} properties\")\n",
    "\n",
    "# Calculate descriptive statistics\n",
    "print(f\"\\nMean price of houses > 200m² with elevator: ${large_area_with_elevator.mean():.2f}\")\n",
    "print(f\"Mean price of houses > 200m² without elevator: ${large_area_without_elevator.mean():.2f}\")\n",
    "\n",
    "# Perform independent t-test\n",
    "# H0: Mean price of houses > 200m² with elevator = Mean price of houses > 200m² without elevator\n",
    "# H1: Mean price of houses > 200m² with elevator > Mean price of houses > 200m² without elevator (one-tailed test)\n",
    "t_stat_large_area_elevator, p_value_large_area_elevator = stats.ttest_ind(large_area_with_elevator, large_area_without_elevator, alternative='greater')\n",
    "\n",
    "print(f\"\\nT-test results for houses > 200m²:\")\n",
    "print(f\"T-statistic: {t_stat_large_area_elevator:.4f}\")\n",
    "print(f\"P-value: {p_value_large_area_elevator:.6f}\")\n",
    "\n",
    "# Interpret results\n",
    "if p_value_large_area_elevator < alpha:\n",
    "    print(f\"\\nResult: Reject H0 (p < {alpha})\")\n",
    "    print(\"Conclusion: For houses > 200m², houses with elevator have significantly higher average price than houses without elevator\")\n",
    "else:\n",
    "    print(f\"\\nResult: Fail to reject H0 (p >= {alpha})\")\n",
    "    print(\"Conclusion: For houses > 200m², no significant difference in average price between houses with and without elevator\")"
   ]
  },
  {
   "cell_type": "markdown",
   "id": "7fd45519",
   "metadata": {},
   "source": [
    "## 3. Conclusion\n",
    "\n",
    "Based on the series of t-tests conducted, we can draw several key conclusions about the factors influencing house prices in Tehran:\n",
    "\n",
    "1.  **Core Amenities are Crucial:** The presence of a **Parking**, **Warehouse**, or **Elevator** consistently and significantly increases the average price of a house. This suggests these are highly valued features in the Tehran real estate market.\n",
    "\n",
    "2.  **Size Matters:**\n",
    "    *   **Area:** Larger houses (70-100m²) are significantly more expensive than smaller ones (<70m²), confirming that square meterage is a fundamental driver of price.\n",
    "    *   **Bedrooms:** An increase in the number of bedrooms generally leads to a higher price. Houses with 1, 3, 4, or 5 bedrooms are all significantly more expensive than studio apartments (0 bedrooms). The jump from 4 to 5 bedrooms also shows a significant price increase.\n",
    "\n",
    "3.  **Contextual Importance:** The value of an amenity can be context-dependent. For example, an **elevator** provides a significant price premium even in **small houses (≤50m²)**, where one might not assume it's a standard feature. Similarly, **parking** remains a significant value driver even for **medium (81-120m²)** and **large (>200m²)** houses.\n",
    "\n",
    "In summary, the most valuable properties in this dataset are large, have multiple bedrooms, and are equipped with essential amenities like parking, a warehouse, and an elevator."
   ]
  }
 ],
 "metadata": {
  "kernelspec": {
   "display_name": "base",
   "language": "python",
   "name": "python3"
  },
  "language_info": {
   "codemirror_mode": {
    "name": "ipython",
    "version": 3
   },
   "file_extension": ".py",
   "mimetype": "text/x-python",
   "name": "python",
   "nbconvert_exporter": "python",
   "pygments_lexer": "ipython3",
   "version": "3.12.7"
  }
 },
 "nbformat": 4,
 "nbformat_minor": 5
}
