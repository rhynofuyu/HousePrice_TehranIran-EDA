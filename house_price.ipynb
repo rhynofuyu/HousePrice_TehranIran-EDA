{
 "cells": [
  {
   "cell_type": "markdown",
   "id": "dc5d138f",
   "metadata": {},
   "source": [
    "# House Price (Tehran, Iran) EDA\n",
    "#### About 3500 Houses with thier complete information (Price in Dollor & Toman)\n",
    "##### By @hoangvd, 13/06/2025"
   ]
  },
  {
   "cell_type": "markdown",
   "id": "258340da",
   "metadata": {},
   "source": [
    "### 1. Init and clean data"
   ]
  },
  {
   "cell_type": "markdown",
   "id": "7ba17bb4",
   "metadata": {},
   "source": [
    "- Import Libraries"
   ]
  },
  {
   "cell_type": "code",
   "execution_count": 2,
   "id": "8ce4e8a7",
   "metadata": {},
   "outputs": [],
   "source": [
    "import numpy as np\n",
    "import pandas as pd\n",
    "import matplotlib\n",
    "import matplotlib.pyplot as plt"
   ]
  },
  {
   "cell_type": "markdown",
   "id": "3462050b",
   "metadata": {},
   "source": [
    "- Import data, check for comlumns and variables"
   ]
  },
  {
   "cell_type": "code",
   "execution_count": 3,
   "id": "a736af46",
   "metadata": {},
   "outputs": [
    {
     "data": {
      "text/html": [
       "<div>\n",
       "<style scoped>\n",
       "    .dataframe tbody tr th:only-of-type {\n",
       "        vertical-align: middle;\n",
       "    }\n",
       "\n",
       "    .dataframe tbody tr th {\n",
       "        vertical-align: top;\n",
       "    }\n",
       "\n",
       "    .dataframe thead th {\n",
       "        text-align: right;\n",
       "    }\n",
       "</style>\n",
       "<table border=\"1\" class=\"dataframe\">\n",
       "  <thead>\n",
       "    <tr style=\"text-align: right;\">\n",
       "      <th></th>\n",
       "      <th>Area</th>\n",
       "      <th>Room</th>\n",
       "      <th>Parking</th>\n",
       "      <th>Warehouse</th>\n",
       "      <th>Elevator</th>\n",
       "      <th>Address</th>\n",
       "      <th>Price</th>\n",
       "      <th>Price(USD)</th>\n",
       "    </tr>\n",
       "  </thead>\n",
       "  <tbody>\n",
       "    <tr>\n",
       "      <th>0</th>\n",
       "      <td>63</td>\n",
       "      <td>1</td>\n",
       "      <td>True</td>\n",
       "      <td>True</td>\n",
       "      <td>True</td>\n",
       "      <td>Shahran</td>\n",
       "      <td>1.850000e+09</td>\n",
       "      <td>61666.67</td>\n",
       "    </tr>\n",
       "    <tr>\n",
       "      <th>1</th>\n",
       "      <td>60</td>\n",
       "      <td>1</td>\n",
       "      <td>True</td>\n",
       "      <td>True</td>\n",
       "      <td>True</td>\n",
       "      <td>Shahran</td>\n",
       "      <td>1.850000e+09</td>\n",
       "      <td>61666.67</td>\n",
       "    </tr>\n",
       "    <tr>\n",
       "      <th>2</th>\n",
       "      <td>79</td>\n",
       "      <td>2</td>\n",
       "      <td>True</td>\n",
       "      <td>True</td>\n",
       "      <td>True</td>\n",
       "      <td>Pardis</td>\n",
       "      <td>5.500000e+08</td>\n",
       "      <td>18333.33</td>\n",
       "    </tr>\n",
       "    <tr>\n",
       "      <th>3</th>\n",
       "      <td>95</td>\n",
       "      <td>2</td>\n",
       "      <td>True</td>\n",
       "      <td>True</td>\n",
       "      <td>True</td>\n",
       "      <td>Shahrake Qods</td>\n",
       "      <td>9.025000e+08</td>\n",
       "      <td>30083.33</td>\n",
       "    </tr>\n",
       "    <tr>\n",
       "      <th>4</th>\n",
       "      <td>123</td>\n",
       "      <td>2</td>\n",
       "      <td>True</td>\n",
       "      <td>True</td>\n",
       "      <td>True</td>\n",
       "      <td>Shahrake Gharb</td>\n",
       "      <td>7.000000e+09</td>\n",
       "      <td>233333.33</td>\n",
       "    </tr>\n",
       "  </tbody>\n",
       "</table>\n",
       "</div>"
      ],
      "text/plain": [
       "  Area  Room  Parking  Warehouse  Elevator         Address         Price  \\\n",
       "0   63     1     True       True      True         Shahran  1.850000e+09   \n",
       "1   60     1     True       True      True         Shahran  1.850000e+09   \n",
       "2   79     2     True       True      True          Pardis  5.500000e+08   \n",
       "3   95     2     True       True      True   Shahrake Qods  9.025000e+08   \n",
       "4  123     2     True       True      True  Shahrake Gharb  7.000000e+09   \n",
       "\n",
       "   Price(USD)  \n",
       "0    61666.67  \n",
       "1    61666.67  \n",
       "2    18333.33  \n",
       "3    30083.33  \n",
       "4   233333.33  "
      ]
     },
     "execution_count": 3,
     "metadata": {},
     "output_type": "execute_result"
    }
   ],
   "source": [
    "houses = pd.read_csv(\"./data/housePrice.csv\")\n",
    "houses.head()"
   ]
  },
  {
   "cell_type": "code",
   "execution_count": 4,
   "id": "62f2edf6",
   "metadata": {},
   "outputs": [
    {
     "name": "stdout",
     "output_type": "stream",
     "text": [
      "Duplicated: 208\n",
      "     Area  Room  Parking  Warehouse  Elevator            Address  \\\n",
      "55     61     1     True       True     False              Punak   \n",
      "78     74     2     True       True      True            Amirieh   \n",
      "79     88     3    False      False      True             Parand   \n",
      "80     63     1     True       True      True              Punak   \n",
      "81    114     3     True       True      True         Sattarkhan   \n",
      "...   ...   ...      ...        ...       ...                ...   \n",
      "3449   80     2     True       True      True              Punak   \n",
      "3451   88     2     True       True      True  Central Janatabad   \n",
      "3459   80     2     True       True      True        Ostad Moein   \n",
      "3461   55     1     True       True      True              Punak   \n",
      "3476   75     2    False      False     False             Parand   \n",
      "\n",
      "             Price  Price(USD)  \n",
      "55    2.030000e+09    67666.67  \n",
      "78    1.700000e+09    56666.67  \n",
      "79    5.600000e+08    18666.67  \n",
      "80    2.150000e+09    71666.67  \n",
      "81    5.500000e+09   183333.33  \n",
      "...            ...         ...  \n",
      "3449  3.760000e+09   125333.33  \n",
      "3451  4.000000e+09   133333.33  \n",
      "3459  2.250000e+09    75000.00  \n",
      "3461  2.300000e+09    76666.67  \n",
      "3476  3.650000e+08    12166.67  \n",
      "\n",
      "[208 rows x 8 columns]\n"
     ]
    }
   ],
   "source": [
    "duplicates = houses.duplicated()\n",
    "print(f\"Duplicated: {duplicates.sum()}\")\n",
    "duplicated_rows = houses[duplicates]\n",
    "print(duplicated_rows)"
   ]
  },
  {
   "cell_type": "markdown",
   "id": "b01676f8",
   "metadata": {},
   "source": [
    "💡 **Insight 1**: Duplicate data  \n",
    "Although there are duplicates, it's still normal and not an issue because a single building can be divided into multiple units and then sold separately (this can be used in relation to counting building density, location, and area)."
   ]
  },
  {
   "cell_type": "markdown",
   "id": "154ee579",
   "metadata": {},
   "source": [
    "Notes:\n",
    "- **Area** in square meters\n",
    "- **Number** of bedrooms\n",
    "- Has **Parking** or not\n",
    "- Has **elevator** or not\n",
    "- Has **warehouse** or not\n",
    "- The **region** where the house is placed\n",
    "- **Price** in Toman and USD\n",
    "\n"
   ]
  },
  {
   "cell_type": "markdown",
   "id": "a791fb50",
   "metadata": {},
   "source": [
    "- Since the price data in Toman and USD are essentially the same, just use USD to avoid confusion (remove the Toman price column)."
   ]
  },
  {
   "cell_type": "code",
   "execution_count": 5,
   "id": "6ab0e705",
   "metadata": {},
   "outputs": [
    {
     "name": "stdout",
     "output_type": "stream",
     "text": [
      "<class 'pandas.core.frame.DataFrame'>\n",
      "RangeIndex: 3479 entries, 0 to 3478\n",
      "Data columns (total 8 columns):\n",
      " #   Column      Non-Null Count  Dtype  \n",
      "---  ------      --------------  -----  \n",
      " 0   Area        3479 non-null   object \n",
      " 1   Room        3479 non-null   int64  \n",
      " 2   Parking     3479 non-null   bool   \n",
      " 3   Warehouse   3479 non-null   bool   \n",
      " 4   Elevator    3479 non-null   bool   \n",
      " 5   Address     3456 non-null   object \n",
      " 6   Price       3479 non-null   float64\n",
      " 7   Price(USD)  3479 non-null   float64\n",
      "dtypes: bool(3), float64(2), int64(1), object(2)\n",
      "memory usage: 146.2+ KB\n"
     ]
    },
    {
     "data": {
      "text/html": [
       "<div>\n",
       "<style scoped>\n",
       "    .dataframe tbody tr th:only-of-type {\n",
       "        vertical-align: middle;\n",
       "    }\n",
       "\n",
       "    .dataframe tbody tr th {\n",
       "        vertical-align: top;\n",
       "    }\n",
       "\n",
       "    .dataframe thead th {\n",
       "        text-align: right;\n",
       "    }\n",
       "</style>\n",
       "<table border=\"1\" class=\"dataframe\">\n",
       "  <thead>\n",
       "    <tr style=\"text-align: right;\">\n",
       "      <th></th>\n",
       "      <th>Area</th>\n",
       "      <th>Room</th>\n",
       "      <th>Parking</th>\n",
       "      <th>Warehouse</th>\n",
       "      <th>Elevator</th>\n",
       "      <th>Address</th>\n",
       "      <th>Price</th>\n",
       "    </tr>\n",
       "  </thead>\n",
       "  <tbody>\n",
       "    <tr>\n",
       "      <th>0</th>\n",
       "      <td>63</td>\n",
       "      <td>1</td>\n",
       "      <td>True</td>\n",
       "      <td>True</td>\n",
       "      <td>True</td>\n",
       "      <td>Shahran</td>\n",
       "      <td>61666.67</td>\n",
       "    </tr>\n",
       "    <tr>\n",
       "      <th>1</th>\n",
       "      <td>60</td>\n",
       "      <td>1</td>\n",
       "      <td>True</td>\n",
       "      <td>True</td>\n",
       "      <td>True</td>\n",
       "      <td>Shahran</td>\n",
       "      <td>61666.67</td>\n",
       "    </tr>\n",
       "    <tr>\n",
       "      <th>2</th>\n",
       "      <td>79</td>\n",
       "      <td>2</td>\n",
       "      <td>True</td>\n",
       "      <td>True</td>\n",
       "      <td>True</td>\n",
       "      <td>Pardis</td>\n",
       "      <td>18333.33</td>\n",
       "    </tr>\n",
       "    <tr>\n",
       "      <th>3</th>\n",
       "      <td>95</td>\n",
       "      <td>2</td>\n",
       "      <td>True</td>\n",
       "      <td>True</td>\n",
       "      <td>True</td>\n",
       "      <td>Shahrake Qods</td>\n",
       "      <td>30083.33</td>\n",
       "    </tr>\n",
       "    <tr>\n",
       "      <th>4</th>\n",
       "      <td>123</td>\n",
       "      <td>2</td>\n",
       "      <td>True</td>\n",
       "      <td>True</td>\n",
       "      <td>True</td>\n",
       "      <td>Shahrake Gharb</td>\n",
       "      <td>233333.33</td>\n",
       "    </tr>\n",
       "  </tbody>\n",
       "</table>\n",
       "</div>"
      ],
      "text/plain": [
       "  Area  Room  Parking  Warehouse  Elevator         Address      Price\n",
       "0   63     1     True       True      True         Shahran   61666.67\n",
       "1   60     1     True       True      True         Shahran   61666.67\n",
       "2   79     2     True       True      True          Pardis   18333.33\n",
       "3   95     2     True       True      True   Shahrake Qods   30083.33\n",
       "4  123     2     True       True      True  Shahrake Gharb  233333.33"
      ]
     },
     "execution_count": 5,
     "metadata": {},
     "output_type": "execute_result"
    }
   ],
   "source": [
    "houses.info()\n",
    "houses = houses.drop('Price', axis=1)\n",
    "houses = houses.rename(columns={'Price(USD)': 'Price'})\n",
    "houses.head()"
   ]
  },
  {
   "cell_type": "markdown",
   "id": "e9951619",
   "metadata": {},
   "source": [
    "💡 **Note**: Non-null count  \n",
    "The data is mostly complete; however, some values in the \"address\" column are missing, possibly due to the absence of specific addresses or lack of provided information."
   ]
  },
  {
   "cell_type": "code",
   "execution_count": 6,
   "id": "dffefd5b",
   "metadata": {},
   "outputs": [
    {
     "name": "stdout",
     "output_type": "stream",
     "text": [
      "<class 'pandas.core.frame.DataFrame'>\n",
      "RangeIndex: 3479 entries, 0 to 3478\n",
      "Data columns (total 7 columns):\n",
      " #   Column     Non-Null Count  Dtype   \n",
      "---  ------     --------------  -----   \n",
      " 0   Area       3473 non-null   float64 \n",
      " 1   Room       3479 non-null   category\n",
      " 2   Parking    3479 non-null   category\n",
      " 3   Warehouse  3479 non-null   category\n",
      " 4   Elevator   3479 non-null   category\n",
      " 5   Address    3456 non-null   object  \n",
      " 6   Price      3479 non-null   float64 \n",
      "dtypes: category(4), float64(2), object(1)\n",
      "memory usage: 95.7+ KB\n"
     ]
    }
   ],
   "source": [
    "cate = ['Room', 'Parking', 'Warehouse', 'Elevator']\n",
    "\n",
    "for i in cate:\n",
    "    houses[i] = houses[i].astype('category')\n",
    "\n",
    "houses['Area'] = pd.to_numeric(houses['Area'], errors='coerce')\n",
    "\n",
    "\n",
    "houses.info()\n"
   ]
  },
  {
   "cell_type": "code",
   "execution_count": 7,
   "id": "e87b9d47",
   "metadata": {},
   "outputs": [],
   "source": [
    "# delete na values in address column\n",
    "houses = houses.dropna(subset=['Address'])\n",
    "\n"
   ]
  },
  {
   "cell_type": "markdown",
   "id": "5933c5d1",
   "metadata": {},
   "source": [
    "- Area distribution in dataset"
   ]
  },
  {
   "cell_type": "code",
   "execution_count": null,
   "id": "8015dd8f",
   "metadata": {},
   "outputs": [
    {
     "data": {
      "image/png": "[encoded data removed]",
      "text/plain": [
       "<Figure size 1000x600 with 1 Axes>"
      ]
     },
     "metadata": {},
     "output_type": "display_data"
    }
   ],
   "source": [
    "houses['Area'].value_counts()\n",
    "plt.figure(figsize=(10,6))\n",
    "plt.hist(houses['Area'], bins=50, color='blue', alpha=0.7)\n",
    "plt.title('Area Distribution')\n",
    "plt.xlabel('Area (m²)')\n",
    "plt.ylabel('Frequency')\n",
    "plt.grid(axis='y', alpha=0.75)\n",
    "plt.show()"
   ]
  },
  {
   "cell_type": "code",
   "execution_count": 1,
   "id": "b08a7b1d",
   "metadata": {},
   "outputs": [
    {
     "ename": "NameError",
     "evalue": "name 'pd' is not defined",
     "output_type": "error",
     "traceback": [
      "\u001b[31m---------------------------------------------------------------------------\u001b[39m",
      "\u001b[31mNameError\u001b[39m                                 Traceback (most recent call last)",
      "\u001b[36mCell\u001b[39m\u001b[36m \u001b[39m\u001b[32mIn[1]\u001b[39m\u001b[32m, line 2\u001b[39m\n\u001b[32m      1\u001b[39m area_bins = [\u001b[32m0\u001b[39m, \u001b[32m50\u001b[39m, \u001b[32m100\u001b[39m, \u001b[32m150\u001b[39m, \u001b[32m200\u001b[39m, \u001b[32m250\u001b[39m, \u001b[32m300\u001b[39m, \u001b[32m350\u001b[39m, \u001b[32m400\u001b[39m, \u001b[32m500\u001b[39m, \u001b[32m900\u001b[39m]\n\u001b[32m----> \u001b[39m\u001b[32m2\u001b[39m houses[\u001b[33m'\u001b[39m\u001b[33mArea_Group\u001b[39m\u001b[33m'\u001b[39m] = \u001b[43mpd\u001b[49m.cut(houses[\u001b[33m'\u001b[39m\u001b[33mArea\u001b[39m\u001b[33m'\u001b[39m], bins=area_bins, labels=[\u001b[33m'\u001b[39m\u001b[33m0-50\u001b[39m\u001b[33m'\u001b[39m, \u001b[33m'\u001b[39m\u001b[33m50-100\u001b[39m\u001b[33m'\u001b[39m, \u001b[33m'\u001b[39m\u001b[33m100-150\u001b[39m\u001b[33m'\u001b[39m, \u001b[33m'\u001b[39m\u001b[33m150-200\u001b[39m\u001b[33m'\u001b[39m, \u001b[33m'\u001b[39m\u001b[33m200-250\u001b[39m\u001b[33m'\u001b[39m, \u001b[33m'\u001b[39m\u001b[33m250-300\u001b[39m\u001b[33m'\u001b[39m, \u001b[33m'\u001b[39m\u001b[33m300-350\u001b[39m\u001b[33m'\u001b[39m, \u001b[33m'\u001b[39m\u001b[33m350-400\u001b[39m\u001b[33m'\u001b[39m, \u001b[33m'\u001b[39m\u001b[33m400-500\u001b[39m\u001b[33m'\u001b[39m, \u001b[33m'\u001b[39m\u001b[33m500+\u001b[39m\u001b[33m'\u001b[39m], right=\u001b[38;5;28;01mFalse\u001b[39;00m)\n\u001b[32m      3\u001b[39m \u001b[38;5;28mprint\u001b[39m(houses[\u001b[33m'\u001b[39m\u001b[33mArea_Group\u001b[39m\u001b[33m'\u001b[39m].value_counts())\n",
      "\u001b[31mNameError\u001b[39m: name 'pd' is not defined"
     ]
    }
   ],
   "source": [
    "area_bins = [0, 50, 100, 150, 200, 250, 300, 350, 400, 500, 900]\n",
    "houses['Area_Group'] = pd.cut(houses['Area'], bins=area_bins, labels=['0-50', '50-100', '100-150', '150-200', '200-250', '250-300', '300-350', '350-400', '400-500', '500+'], right=False)\n",
    "print(houses['Area_Group'].value_counts())\n"
   ]
  },
  {
   "cell_type": "markdown",
   "id": "af27cfeb",
   "metadata": {},
   "source": [
    "- [0- ]"
   ]
  },
  {
   "cell_type": "code",
   "execution_count": 30,
   "id": "def42105",
   "metadata": {},
   "outputs": [
    {
     "name": "stdout",
     "output_type": "stream",
     "text": [
      "count    3450.000000\n",
      "mean      106.917391\n",
      "std        69.550976\n",
      "min        30.000000\n",
      "25%        69.000000\n",
      "50%        90.000000\n",
      "75%       120.000000\n",
      "max       929.000000\n",
      "Name: Area, dtype: float64\n"
     ]
    }
   ],
   "source": [
    "print(houses['Area'].describe().astype('float64'))"
   ]
  },
  {
   "cell_type": "code",
   "execution_count": 19,
   "id": "ba4fb2dd",
   "metadata": {},
   "outputs": [
    {
     "name": "stdout",
     "output_type": "stream",
     "text": [
      "count       3456\n",
      "mean      179331\n",
      "std       270724\n",
      "min          120\n",
      "25%        47333\n",
      "50%        96666\n",
      "75%       200000\n",
      "max      3080000\n",
      "Name: Price, dtype: int64\n"
     ]
    }
   ],
   "source": [
    "print(houses.Price.describe().astype(int))"
   ]
  },
  {
   "cell_type": "markdown",
   "id": "f9c15b2d",
   "metadata": {},
   "source": []
  },
  {
   "cell_type": "markdown",
   "id": "4e82d7f4",
   "metadata": {},
   "source": [
    "|"
   ]
  }
 ],
 "metadata": {
  "kernelspec": {
   "display_name": "Python 3",
   "language": "python",
   "name": "python3"
  },
  "language_info": {
   "codemirror_mode": {
    "name": "ipython",
    "version": 3
   },
   "file_extension": ".py",
   "mimetype": "text/x-python",
   "name": "python",
   "nbconvert_exporter": "python",
   "pygments_lexer": "ipython3",
   "version": "3.12.1"
  }
 },
 "nbformat": 4,
 "nbformat_minor": 5
}
