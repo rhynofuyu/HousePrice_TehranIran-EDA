{
 "cells": [
  {
   "cell_type": "markdown",
   "id": "dc5d138f",
   "metadata": {},
   "source": [
    "# House Price (Tehran, Iran) EDA\n",
    "#### About 3500 Houses with thier complete information (Price in Dollor & Toman)\n",
    "##### By @hoangvd, 13/06/2025"
   ]
  },
  {
   "cell_type": "markdown",
   "id": "7ba17bb4",
   "metadata": {},
   "source": []
  }
 ],
 "metadata": {
  "language_info": {
   "name": "python"
  }
 },
 "nbformat": 4,
 "nbformat_minor": 5
}
